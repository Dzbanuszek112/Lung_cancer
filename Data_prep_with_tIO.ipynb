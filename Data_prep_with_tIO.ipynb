{
 "cells": [
  {
   "cell_type": "markdown",
   "id": "dc10a143-d10c-4470-bb40-4a9947a8972f",
   "metadata": {},
   "source": [
    "# Data preparation with reporting torchIO errors\n",
    "Due to the problem with IO.stream redirecting in Jupyter Notebook, most of the code run outside of the notebook, from `dataset_creation.py` file."
   ]
  },
  {
   "cell_type": "markdown",
   "id": "b964c7d6-7ab0-4d2a-b9ed-3ade16ce43f8",
   "metadata": {},
   "source": [
    "## Creating a configurational file\n",
    "At the begining pylidc library needs a configurational file `.pylidcrc` saved at the root directory. File have to include path to LIDC-IDRI dataset."
   ]
  },
  {
   "cell_type": "code",
   "execution_count": 1,
   "id": "6bc2dfc5-83f0-4479-a440-fc37407d7eb7",
   "metadata": {},
   "outputs": [
    {
     "name": "stdout",
     "output_type": "stream",
     "text": [
      "/lu/tetyda/home/dzban112/Lung_cancer\n"
     ]
    }
   ],
   "source": [
    "! pwd"
   ]
  },
  {
   "cell_type": "code",
   "execution_count": 2,
   "id": "b4ee1f06-153e-4597-9707-b491217a7f2a",
   "metadata": {},
   "outputs": [],
   "source": [
    "path = '../LIDC_sets/manifest_10_patients/LIDC-IDRI'\n",
    "with open('/home/dzban112/.pylidcrc', 'w') as f: # mode 'w' clear file and starts writing from the begining.\n",
    "    f.write(f'[dicom]\\npath = {path}\\n\\n')"
   ]
  },
  {
   "cell_type": "code",
   "execution_count": 3,
   "id": "0550c453-81ab-411a-ac02-68aa81dfcd8e",
   "metadata": {},
   "outputs": [
    {
     "name": "stdout",
     "output_type": "stream",
     "text": [
      "[dicom]\n",
      "path = ../LIDC_sets/manifest_10_patients/LIDC-IDRI\n",
      "\n"
     ]
    }
   ],
   "source": [
    "! cat /home/dzban112/.pylidcrc"
   ]
  },
  {
   "cell_type": "markdown",
   "id": "f535b6a4-debb-43f9-b6ae-0eed68a1702d",
   "metadata": {},
   "source": [
    "## Defining base path and saving path\n",
    "Base path is a path to the LIDCI-IDRI set. <br/>\n",
    "Saving path is where the prepared dataset will be saved."
   ]
  },
  {
   "cell_type": "code",
   "execution_count": 22,
   "id": "2f5302f5-3a1a-452b-a499-e665e0417f4c",
   "metadata": {},
   "outputs": [],
   "source": [
    "# define path to LIDC-IDRI data\n",
    "base_path = \"../LIDC_sets/manifest_10_patients/LIDC-IDRI\"\n",
    "# define path to save the dataset\n",
    "save_path = \"./dataset\"\n",
    "\n",
    "with open('paths.txt', 'w') as p:\n",
    "    p.write(base_path + \"\\n\")\n",
    "    p.write(save_path)"
   ]
  },
  {
   "cell_type": "markdown",
   "id": "0ac11f1c-0477-435d-a749-f8718fd8810c",
   "metadata": {},
   "source": [
    "## What data is extracted from LIDCI-IDRI set?\n",
    "The scope of this notebook is to extract relevant data from the big LIDCI-IDRI set. Whole dataset include **1018** records, which are CT (Computer Tomography) scans of patients lungs.\n",
    "Scans are annotated by maximally **4** annotators. Each annotation corresponds to a nodule and describes its attributes. For purpose of dataset creation I extracted following nodule attributes:\n",
    "* sublety\n",
    "* internalStructure\n",
    "* calcification\n",
    "* sphericity\n",
    "* margin\n",
    "* lobulation\n",
    "* spiculation\n",
    "* texture\n",
    "* diameter\n",
    "\n",
    "There is also hand-crafted target feature, which says whether nodule in benign or malignant.\n",
    "Last but not the least, image data is extracted by cropping original scans. Only volume of dimmensions **(h, h, h)** which surrounds center of nodule is extracted. **Parameter h is set by default to 32.** It may be adjusted in `dataset_creation.py` file."
   ]
  },
  {
   "cell_type": "markdown",
   "id": "87d34fde-cf14-4cd2-9350-57b0aeb927ad",
   "metadata": {},
   "source": [
    "### Main script\n",
    "Running it creates dataset with extracted values. Code makes following files:\n",
    "* `{save_path}/match.pkl` - 2D array with matched LIDCI-IDRI patient ID and new nodule ID in the created dataset. \n",
    "* `{save_path}/annotations.pkl` - python dictionary object with annotations data saved as pickle file.\n",
    "* `{save_path}/annotations_df.pkl` - Pandas DataFrame object with annotations data saved as pickle file.\n",
    "<br/> Also following directories are prepared:\n",
    "* `{save_path}/crops` - directory stores extracted image volumes with nodules.\n",
    "* `{save_path}/masks` - directory stores corresponding to volumes masks."
   ]
  },
  {
   "cell_type": "code",
   "execution_count": 32,
   "id": "91cda84b-8319-4118-b7b6-418fe20a0c6b",
   "metadata": {},
   "outputs": [
    {
     "name": "stdout",
     "output_type": "stream",
     "text": [
      "100%|███████████████████████████████████████████| 10/10 [00:56<00:00,  5.65s/it]\n"
     ]
    }
   ],
   "source": [
    "! python3 dataset_creation.py"
   ]
  },
  {
   "cell_type": "code",
   "execution_count": 36,
   "id": "a8bd14d5-5e69-42df-a2fe-2ebbbf758264",
   "metadata": {},
   "outputs": [],
   "source": [
    "import pickle\n",
    "import pandas as pd\n",
    "\n",
    "# Creates pandas dataframe from dictionary and saves it as pickle\n",
    "with open(f\"{save_path}/annotations.pkl\", \"rb\") as k:\n",
    "    avg_annotations = pickle.load(k)\n",
    "df_ann = pd.DataFrame.from_dict(avg_annotations)\n",
    "df_ann.to_pickle(f\"{save_path}/annotations_df.pkl\")"
   ]
  },
  {
   "cell_type": "code",
   "execution_count": 37,
   "id": "068d362d-ca24-421d-94de-33c04b9e0ef6",
   "metadata": {},
   "outputs": [
    {
     "data": {
      "text/html": [
       "<div>\n",
       "<style scoped>\n",
       "    .dataframe tbody tr th:only-of-type {\n",
       "        vertical-align: middle;\n",
       "    }\n",
       "\n",
       "    .dataframe tbody tr th {\n",
       "        vertical-align: top;\n",
       "    }\n",
       "\n",
       "    .dataframe thead th {\n",
       "        text-align: right;\n",
       "    }\n",
       "</style>\n",
       "<table border=\"1\" class=\"dataframe\">\n",
       "  <thead>\n",
       "    <tr style=\"text-align: right;\">\n",
       "      <th></th>\n",
       "      <th>subtlety</th>\n",
       "      <th>internalStructure</th>\n",
       "      <th>calcification</th>\n",
       "      <th>sphericity</th>\n",
       "      <th>margin</th>\n",
       "      <th>lobulation</th>\n",
       "      <th>spiculation</th>\n",
       "      <th>texture</th>\n",
       "      <th>diameter</th>\n",
       "      <th>target</th>\n",
       "      <th>path</th>\n",
       "    </tr>\n",
       "  </thead>\n",
       "  <tbody>\n",
       "    <tr>\n",
       "      <th>0</th>\n",
       "      <td>5.0</td>\n",
       "      <td>1.0</td>\n",
       "      <td>6.00</td>\n",
       "      <td>3.75</td>\n",
       "      <td>3.25</td>\n",
       "      <td>3.00</td>\n",
       "      <td>4.25</td>\n",
       "      <td>4.75</td>\n",
       "      <td>32.755812</td>\n",
       "      <td>1</td>\n",
       "      <td>0001.pt</td>\n",
       "    </tr>\n",
       "    <tr>\n",
       "      <th>1</th>\n",
       "      <td>5.0</td>\n",
       "      <td>1.0</td>\n",
       "      <td>6.00</td>\n",
       "      <td>4.00</td>\n",
       "      <td>3.25</td>\n",
       "      <td>2.00</td>\n",
       "      <td>3.00</td>\n",
       "      <td>4.00</td>\n",
       "      <td>31.001964</td>\n",
       "      <td>1</td>\n",
       "      <td>0002.pt</td>\n",
       "    </tr>\n",
       "    <tr>\n",
       "      <th>2</th>\n",
       "      <td>3.5</td>\n",
       "      <td>1.0</td>\n",
       "      <td>6.00</td>\n",
       "      <td>3.50</td>\n",
       "      <td>4.00</td>\n",
       "      <td>1.75</td>\n",
       "      <td>1.50</td>\n",
       "      <td>4.75</td>\n",
       "      <td>13.309155</td>\n",
       "      <td>1</td>\n",
       "      <td>0003.pt</td>\n",
       "    </tr>\n",
       "    <tr>\n",
       "      <th>3</th>\n",
       "      <td>4.0</td>\n",
       "      <td>1.0</td>\n",
       "      <td>6.00</td>\n",
       "      <td>4.50</td>\n",
       "      <td>5.00</td>\n",
       "      <td>1.00</td>\n",
       "      <td>1.00</td>\n",
       "      <td>5.00</td>\n",
       "      <td>14.983128</td>\n",
       "      <td>1</td>\n",
       "      <td>0004.pt</td>\n",
       "    </tr>\n",
       "    <tr>\n",
       "      <th>4</th>\n",
       "      <td>3.0</td>\n",
       "      <td>1.0</td>\n",
       "      <td>3.75</td>\n",
       "      <td>3.50</td>\n",
       "      <td>5.00</td>\n",
       "      <td>1.00</td>\n",
       "      <td>1.00</td>\n",
       "      <td>5.00</td>\n",
       "      <td>6.817327</td>\n",
       "      <td>0</td>\n",
       "      <td>0005.pt</td>\n",
       "    </tr>\n",
       "  </tbody>\n",
       "</table>\n",
       "</div>"
      ],
      "text/plain": [
       "   subtlety  internalStructure  calcification  sphericity  margin  lobulation  \\\n",
       "0       5.0                1.0           6.00        3.75    3.25        3.00   \n",
       "1       5.0                1.0           6.00        4.00    3.25        2.00   \n",
       "2       3.5                1.0           6.00        3.50    4.00        1.75   \n",
       "3       4.0                1.0           6.00        4.50    5.00        1.00   \n",
       "4       3.0                1.0           3.75        3.50    5.00        1.00   \n",
       "\n",
       "   spiculation  texture   diameter  target     path  \n",
       "0         4.25     4.75  32.755812       1  0001.pt  \n",
       "1         3.00     4.00  31.001964       1  0002.pt  \n",
       "2         1.50     4.75  13.309155       1  0003.pt  \n",
       "3         1.00     5.00  14.983128       1  0004.pt  \n",
       "4         1.00     5.00   6.817327       0  0005.pt  "
      ]
     },
     "execution_count": 37,
     "metadata": {},
     "output_type": "execute_result"
    }
   ],
   "source": [
    "df_ann.head()"
   ]
  },
  {
   "cell_type": "markdown",
   "id": "351811d6-737d-42a2-aec0-fbd67fbc182a",
   "metadata": {},
   "source": [
    "### Visualisation of crops\n",
    "Below function to visualise crops slices"
   ]
  },
  {
   "cell_type": "code",
   "execution_count": 38,
   "id": "887e6dee-bf3a-4206-8793-0d79764ab09b",
   "metadata": {},
   "outputs": [
    {
     "data": {
      "text/plain": [
       "<Figure size 432x288 with 0 Axes>"
      ]
     },
     "metadata": {},
     "output_type": "display_data"
    }
   ],
   "source": [
    "import matplotlib.pyplot as plt\n",
    "import torch\n",
    "\n",
    "plt.set_cmap('gray')\n",
    "\n",
    "def visualise_crop_slice(save_path, ID, slice_number):\n",
    "    crop = torch.load(f\"{save_path}/crops/{ID}\")\n",
    "    plt.figure(figsize=(5, 5))\n",
    "    plt.imshow(crop[:,:,slice_number])\n",
    "    plt.show()"
   ]
  },
  {
   "cell_type": "code",
   "execution_count": 35,
   "id": "cb1b471c-0263-4f10-ad3c-69f6055b5ad3",
   "metadata": {},
   "outputs": [
    {
     "data": {
      "image/png": "[encoded data removed]",
      "text/plain": [
       "<Figure size 360x360 with 1 Axes>"
      ]
     },
     "metadata": {
      "needs_background": "light"
     },
     "output_type": "display_data"
    }
   ],
   "source": [
    "visualise_crop_slice(save_path, \"0002.pt\", 18)"
   ]
  },
  {
   "cell_type": "code",
   "execution_count": null,
   "id": "1430e73c-7229-4310-a093-930afec12fba",
   "metadata": {},
   "outputs": [],
   "source": []
  }
 ],
 "metadata": {
  "kernelspec": {
   "display_name": "Python 3",
   "language": "python",
   "name": "python3"
  },
  "language_info": {
   "codemirror_mode": {
    "name": "ipython",
    "version": 3
   },
   "file_extension": ".py",
   "mimetype": "text/x-python",
   "name": "python",
   "nbconvert_exporter": "python",
   "pygments_lexer": "ipython3",
   "version": "3.6.8"
  }
 },
 "nbformat": 4,
 "nbformat_minor": 5
}
