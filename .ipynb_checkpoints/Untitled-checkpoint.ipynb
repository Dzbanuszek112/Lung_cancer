{
 "cells": [
  {
   "cell_type": "markdown",
   "id": "dc10a143-d10c-4470-bb40-4a9947a8972f",
   "metadata": {},
   "source": [
    "# Data preparation without reporting torchIO errors"
   ]
  },
  {
   "cell_type": "markdown",
   "id": "8944481e-6d2f-4541-99cd-af543d32b796",
   "metadata": {},
   "source": [
    "## Importing libraries"
   ]
  },
  {
   "cell_type": "code",
   "execution_count": 3,
   "id": "ec71ccde-785d-44ae-9e41-9ba527381f55",
   "metadata": {},
   "outputs": [],
   "source": [
    "import pandas as pd\n",
    "import numpy as np\n",
    "import glob\n",
    "import pylidc as pl\n",
    "from pylidc.utils import consensus\n",
    "import torchio as tio\n",
    "import matplotlib.pyplot as plt\n",
    "import torch\n",
    "from scipy import ndimage\n",
    "import pickle\n",
    "import sys, os\n",
    "import ctypes\n",
    "from contextlib import contextmanager\n",
    "from pathlib import Path\n",
    "from tqdm import tqdm\n",
    "import pickle\n",
    "from torchvision import transforms"
   ]
  },
  {
   "cell_type": "markdown",
   "id": "b964c7d6-7ab0-4d2a-b9ed-3ade16ce43f8",
   "metadata": {},
   "source": [
    "## Creating configurational file"
   ]
  },
  {
   "cell_type": "code",
   "execution_count": 4,
   "id": "b4ee1f06-153e-4597-9707-b491217a7f2a",
   "metadata": {},
   "outputs": [],
   "source": [
    "path = '../LIDC_sets/manifest_10_patients/LIDC-IDRI'\n",
    "f = open('/home/dzban112/.pylidcrc', 'w') # mode 'w' clear file and starts writing from the begining.\n",
    "f.write(f'[dicom]\\npath = {path}\\n\\n')\n",
    "f.close()"
   ]
  },
  {
   "cell_type": "code",
   "execution_count": 5,
   "id": "bf80df72-e14b-4a56-a7ae-643dcc813771",
   "metadata": {},
   "outputs": [
    {
     "name": "stdout",
     "output_type": "stream",
     "text": [
      "/lu/tetyda/home/dzban112/Lung_cancer\n"
     ]
    }
   ],
   "source": [
    "! pwd"
   ]
  },
  {
   "cell_type": "markdown",
   "id": "f535b6a4-debb-43f9-b6ae-0eed68a1702d",
   "metadata": {},
   "source": [
    "## Defining paths"
   ]
  },
  {
   "cell_type": "code",
   "execution_count": 6,
   "id": "2f5302f5-3a1a-452b-a499-e665e0417f4c",
   "metadata": {},
   "outputs": [],
   "source": [
    "# define path to LIDC-IDRI data\n",
    "base_path = \"../LIDC_sets/manifest_10_patients/LIDC-IDRI\"\n",
    "# define path to save the dataset\n",
    "save_path = \"./dataset\"\n",
    "\n",
    "h= 32"
   ]
  },
  {
   "cell_type": "markdown",
   "id": "6b27fb64-3535-47a0-8db3-06e7797ad8a6",
   "metadata": {},
   "source": [
    "## Extraction of nodule information"
   ]
  },
  {
   "cell_type": "code",
   "execution_count": 42,
   "id": "1421788e-2aff-4039-ae72-14bfe21e0437",
   "metadata": {},
   "outputs": [],
   "source": [
    "# extract slices of dimension h x h x h around nodule center. ### -> But there is 3rd channel??\n",
    "# and the corresponding segmentations\n",
    "def process_nodule_vol(nodule, h=32):\n",
    "    dicom = nodule[0].scan.get_path_to_dicom_files()  ## I understand that we look for DICOM files for full scan. And we do it by \n",
    "    # extracting corresponding path from annotation.\n",
    "    print(dicom)\n",
    "    median_malig = np.median([nod.malignancy for nod in nodule])\n",
    "     \n",
    "# in that attempt I am not catching torchIO warnings\n",
    "    tio_image = tio.ScalarImage(dicom)\n",
    "    spacing = tio_image.spacing\n",
    "    # resample isotropically to 1mm spacing\n",
    "    transform = tio.Resample(1)\n",
    "    res_image = transform(tio_image)\n",
    "    #print(f\"Before dimmensions moving: {res_image.data.shape}\")\n",
    "    res_data = torch.movedim(res_image.data, (0,1,2,3), (0,2,1,3)) # Why we have to reshape it? Why we exchange places of X, Y axes?\n",
    "    #print(f\"After dimmensions moving: {res_data.shape}\")\n",
    "    cmask,cbbox,masks = consensus(nodule, clevel=0.5)\n",
    "    # resample cbbox accordingly\n",
    "    res_cbbox = [(round(cbbox[i].start*spacing[i]), \n",
    "                  round(cbbox[i].stop*spacing[i])) for i in range(3)] ##### JB, I do not understand how to interpret cbbox.\n",
    "    \n",
    "    res_cmask = ndimage.zoom(cmask.astype(int), spacing)\n",
    "    \n",
    "    # center of cbbox\n",
    "    res_cbbox0 = [round((res_cbbox[i][0]+res_cbbox[i][1])/2) for i in range(3)]\n",
    "    \n",
    "    # cmask is given realtive to cbbox, express relative to original volume\n",
    "    g = np.zeros(res_data.shape[1:])\n",
    "    g[res_cbbox[0][0]:res_cbbox[0][0]+res_cmask.shape[0], \n",
    "      res_cbbox[1][0]:res_cbbox[1][0]+res_cmask.shape[1],\n",
    "      res_cbbox[2][0]:res_cbbox[2][0]+res_cmask.shape[2],] = res_cmask\n",
    "\n",
    "    # extract volumes of dimension 2k x 2k x 2k\n",
    "    k = int(h/2)\n",
    "    slices = (\n",
    "                slice(res_cbbox0[0]-k, res_cbbox0[0]+k),\n",
    "                slice(res_cbbox0[1]-k, res_cbbox0[1]+k),\n",
    "                slice(res_cbbox0[2]-k, res_cbbox0[2]+k)\n",
    "             )\n",
    "\n",
    "    crop = res_data[0][slices]\n",
    "\n",
    "    g = torch.tensor(g)\n",
    "    mask = g[slices]\n",
    "    \n",
    "    assert crop.shape == torch.Size([h,h,h])\n",
    "    assert mask.shape == torch.Size([h,h,h])\n",
    "    \n",
    "    return median_malig, crop, mask, cbbox"
   ]
  },
  {
   "cell_type": "code",
   "execution_count": 43,
   "id": "7cb3428f-be09-4bfe-a653-88d1ab31de6d",
   "metadata": {
    "tags": []
   },
   "outputs": [
    {
     "name": "stderr",
     "output_type": "stream",
     "text": [
      "  0%|          | 0/10 [00:00<?, ?it/s]"
     ]
    },
    {
     "name": "stdout",
     "output_type": "stream",
     "text": [
      "../LIDC_sets/manifest_10_patients/LIDC-IDRI/LIDC-IDRI-0001/01-01-2000-30178/3000566.000000-03192\n"
     ]
    },
    {
     "name": "stderr",
     "output_type": "stream",
     "text": [
      " 20%|██        | 2/10 [00:04<00:14,  1.79s/it]"
     ]
    },
    {
     "name": "stdout",
     "output_type": "stream",
     "text": [
      "../LIDC_sets/manifest_10_patients/LIDC-IDRI/LIDC-IDRI-0003/01-01-2000-94866/3000611.000000-03264\n",
      "../LIDC_sets/manifest_10_patients/LIDC-IDRI/LIDC-IDRI-0003/01-01-2000-94866/3000611.000000-03264\n",
      "../LIDC_sets/manifest_10_patients/LIDC-IDRI/LIDC-IDRI-0003/01-01-2000-94866/3000611.000000-03264\n"
     ]
    },
    {
     "name": "stderr",
     "output_type": "stream",
     "text": [
      " 30%|███       | 3/10 [00:18<00:52,  7.44s/it]"
     ]
    },
    {
     "name": "stdout",
     "output_type": "stream",
     "text": [
      "../LIDC_sets/manifest_10_patients/LIDC-IDRI/LIDC-IDRI-0004/01-01-2000-91780/3000534.000000-58228\n"
     ]
    },
    {
     "name": "stderr",
     "output_type": "stream",
     "text": [
      " 40%|████      | 4/10 [00:23<00:39,  6.64s/it]"
     ]
    },
    {
     "name": "stdout",
     "output_type": "stream",
     "text": [
      "../LIDC_sets/manifest_10_patients/LIDC-IDRI/LIDC-IDRI-0005/01-01-2000-42125/3000548.000000-86225\n",
      "../LIDC_sets/manifest_10_patients/LIDC-IDRI/LIDC-IDRI-0005/01-01-2000-42125/3000548.000000-86225\n"
     ]
    },
    {
     "name": "stderr",
     "output_type": "stream",
     "text": [
      " 50%|█████     | 5/10 [00:31<00:34,  6.99s/it]"
     ]
    },
    {
     "name": "stdout",
     "output_type": "stream",
     "text": [
      "../LIDC_sets/manifest_10_patients/LIDC-IDRI/LIDC-IDRI-0006/01-01-2000-92500/3000556.000000-20957\n"
     ]
    },
    {
     "name": "stderr",
     "output_type": "stream",
     "text": [
      " 60%|██████    | 6/10 [00:34<00:23,  5.80s/it]"
     ]
    },
    {
     "name": "stdout",
     "output_type": "stream",
     "text": [
      "../LIDC_sets/manifest_10_patients/LIDC-IDRI/LIDC-IDRI-0007/01-01-2000-81781/3000631.000000-57680\n"
     ]
    },
    {
     "name": "stderr",
     "output_type": "stream",
     "text": [
      " 70%|███████   | 7/10 [00:40<00:17,  5.77s/it]"
     ]
    },
    {
     "name": "stdout",
     "output_type": "stream",
     "text": [
      "../LIDC_sets/manifest_10_patients/LIDC-IDRI/LIDC-IDRI-0008/01-01-2000-30141/3000549.000000-21954\n",
      "../LIDC_sets/manifest_10_patients/LIDC-IDRI/LIDC-IDRI-0008/01-01-2000-30141/3000549.000000-21954\n"
     ]
    },
    {
     "name": "stderr",
     "output_type": "stream",
     "text": [
      " 90%|█████████ | 9/10 [00:50<00:04,  4.93s/it]"
     ]
    },
    {
     "name": "stdout",
     "output_type": "stream",
     "text": [
      "../LIDC_sets/manifest_10_patients/LIDC-IDRI/LIDC-IDRI-0010/01-01-2000-43375/3000518.000000-66796\n"
     ]
    },
    {
     "name": "stderr",
     "output_type": "stream",
     "text": [
      "100%|██████████| 10/10 [00:59<00:00,  5.92s/it]\n"
     ]
    }
   ],
   "source": [
    "labels = {}\n",
    "new_id = 1\n",
    "match = []\n",
    "#Path object is a useful path object from pathlib library:\n",
    "Path(f\"{save_path}/crops\").mkdir(parents=True, exist_ok=True)\n",
    "Path(f\"{save_path}/masks\").mkdir(parents=True, exist_ok=True)\n",
    "\n",
    "attributes = [\n",
    "    \"subtlety\",\n",
    "    \"internalStructure\",\n",
    "    \"calcification\",\n",
    "    \"sphericity\",\n",
    "    \"margin\",\n",
    "    \"lobulation\",\n",
    "    \"spiculation\",\n",
    "    \"texture\"\n",
    "]\n",
    "\n",
    "d = glob.glob(f\"{base_path}/*\")\n",
    "d.sort() # alphabetical sorting of files\n",
    "# in that case files will be sorted in according to the patient id:\n",
    "# LIDC-IDRI-0001, LIDC-IDRI-0002 etc.\n",
    "\n",
    "# list of patient ids\n",
    "pids = [elt.split('/')[-1].split('-')[-1] for elt in d]\n",
    "\n",
    "# diameter has to be treated separately because of how the annotations are organized\n",
    "avg_annotations = {}\n",
    "for att in attributes:\n",
    "    avg_annotations[att] = []\n",
    "avg_annotations[\"diameter\"] = []\n",
    "avg_annotations[\"target\"] = []\n",
    "avg_annotations[\"path\"] = []\n",
    "\n",
    "for patient_id in tqdm(pids):\n",
    "    #print(patient_id)\n",
    "    # Selecting from database scan for the patient with given id. Query object needs transformation to the scan object\n",
    "    # what is done by the .first() method.\n",
    "    scan = pl.query(pl.Scan).filter(pl.Scan.patient_id == f\"LIDC-IDRI-{patient_id}\").first()\n",
    "    # clustering annotations. It means assigning annotation to the concrete nodules.\n",
    "    # Annotations are on scan slices, but nodule is a 3D object in lung tissue! So few annotations may be assigned to the one nodule.\n",
    "    nodules = scan.cluster_annotations()\n",
    "    if len(nodules) == 0: # in case, when patient (hopefully) hasn't any nodule.\n",
    "        continue\n",
    "    k = 0\n",
    "    for nodule in nodules:\n",
    "        num_annotations=len(nodule)\n",
    "# in the orignal code they considered only nodules with more than 2 annotations\n",
    "# and nodules with less or equal 4 annotaions. Because they argue that clusterization\n",
    "# is ambiguous when there is more than 4 annotations for a nodule.\n",
    "        if num_annotations > 4:\n",
    "            print(\"skipping!\")\n",
    "        \n",
    "        if (num_annotations > 2 and num_annotations <= 4):\n",
    "            try:\n",
    "                median_malig, crop, mask, cbbox = process_nodule_vol(nodule, h=h)\n",
    "                str_new_id = str(new_id).zfill(4)\n",
    "                append = False\n",
    "                if(median_malig > 3):\n",
    "                    avg_annotations[\"target\"].append(1)\n",
    "                    append = True\n",
    "                    new_id += 1\n",
    "                elif(median_malig < 3):\n",
    "                    avg_annotations[\"target\"].append(0)\n",
    "                    append = True\n",
    "                    new_id += 1\n",
    "                if(append):\n",
    "                    avg_annotations[\"diameter\"].append(np.mean([ann.diameter for ann in nodule]))\n",
    "                    avg_annotations[\"path\"].append(f\"{str_new_id}.pt\")\n",
    "                    for att in attributes:\n",
    "                        avg_annotations[att].append(np.mean([vars(ann)[att] for ann in nodule]))\n",
    "                        \n",
    "                    match.append([patient_id, k, new_id])\n",
    "                    torch.save(crop.clone(), f\"{save_path}/crops/{str_new_id}.pt\")\n",
    "                    torch.save(mask.clone(), f\"{save_path}/masks/{str_new_id}.pt\")\n",
    "            # if creation of crop fails for any reason, skip to next nodule\n",
    "            except Exception as e:\n",
    "                print(e)\n",
    "                continue\n",
    "        k += 1\n",
    "with open(f\"{save_path}/match.pkl\", \"wb\") as handle:\n",
    "    pickle.dump(match, handle)\n",
    "    \n",
    "with open(f\"{save_path}/annotations_new.pkl\", \"wb\") as handle:\n",
    "    pickle.dump(avg_annotations, handle)"
   ]
  },
  {
   "cell_type": "code",
   "execution_count": 27,
   "id": "a8bd14d5-5e69-42df-a2fe-2ebbbf758264",
   "metadata": {},
   "outputs": [],
   "source": [
    "#create pandas dataframe from dictionary and save as pickle\n",
    "with open(f\"{save_path}/annotations_new.pkl\", \"rb\") as k:\n",
    "    avg_annotations = pickle.load(k)\n",
    "df_ann = pd.DataFrame.from_dict(avg_annotations)\n",
    "df_ann.to_pickle(f\"{save_path}/annotations_df.pkl\")"
   ]
  },
  {
   "cell_type": "code",
   "execution_count": 44,
   "id": "ddd97dee-4a46-47a0-8f5f-1a584db23131",
   "metadata": {},
   "outputs": [
    {
     "data": {
      "text/plain": [
       "(slice(312, 328, None), slice(295, 306, None), slice(207, 213, None))"
      ]
     },
     "execution_count": 44,
     "metadata": {},
     "output_type": "execute_result"
    }
   ],
   "source": [
    "cbbox"
   ]
  },
  {
   "cell_type": "code",
   "execution_count": 45,
   "id": "65248fc9-a94d-4fe7-bb15-bc299a13fa42",
   "metadata": {},
   "outputs": [
    {
     "data": {
      "text/plain": [
       "312"
      ]
     },
     "execution_count": 45,
     "metadata": {},
     "output_type": "execute_result"
    }
   ],
   "source": [
    "cbbox[0].start"
   ]
  },
  {
   "cell_type": "code",
   "execution_count": 49,
   "id": "c735c5c8-3313-4cab-97b7-25bd2d6e982c",
   "metadata": {},
   "outputs": [
    {
     "data": {
      "text/plain": [
       "slice(312, 328, None)"
      ]
     },
     "execution_count": 49,
     "metadata": {},
     "output_type": "execute_result"
    }
   ],
   "source": [
    "cbbox[0]"
   ]
  },
  {
   "cell_type": "code",
   "execution_count": 48,
   "id": "8cee4e54-1b5b-4122-8f7f-211fea48bb16",
   "metadata": {},
   "outputs": [
    {
     "data": {
      "text/plain": [
       "8"
      ]
     },
     "execution_count": 48,
     "metadata": {},
     "output_type": "execute_result"
    }
   ],
   "source": [
    "k = int(0.5*(cbbox[0].stop - cbbox[0].start))\n",
    "k"
   ]
  },
  {
   "cell_type": "code",
   "execution_count": 51,
   "id": "8d96990f-e9db-4cbd-b600-24497b1653eb",
   "metadata": {},
   "outputs": [
    {
     "name": "stdout",
     "output_type": "stream",
     "text": [
      "Loading dicom files ... This may take a moment.\n"
     ]
    },
    {
     "data": {
      "text/plain": [
       "(512, 512, 277)"
      ]
     },
     "execution_count": 51,
     "metadata": {},
     "output_type": "execute_result"
    }
   ],
   "source": [
    "img = scan.to_volume(cbbox[0])\n",
    "img.shape"
   ]
  },
  {
   "cell_type": "code",
   "execution_count": 66,
   "id": "324abfa2-a5b7-4bd7-9862-32c66bf2ae65",
   "metadata": {},
   "outputs": [
    {
     "name": "stdout",
     "output_type": "stream",
     "text": [
      "Loading dicom files ... This may take a moment.\n",
      "(512, 512, 277)\n",
      "(slice(320, 412, None), slice(277, 361, None), slice(86, 95, None))\n",
      "(92, 84, 9)\n",
      "(84, 512, 277)\n"
     ]
    }
   ],
   "source": [
    "# Ireally do not understand this fancy indexing by cbbox xD\n",
    "\n",
    "\n",
    "scan = pl.query(pl.Scan).filter(pl.Scan.patient_id == 'LIDC-IDRI-0010').first()\n",
    "vol = scan.to_volume()\n",
    "print(vol.shape)\n",
    "print(cbbox)\n",
    "print(vol[cbbox].shape)\n",
    "print(vol[cbbox[1]].shape)"
   ]
  },
  {
   "cell_type": "code",
   "execution_count": 65,
   "id": "0a07c32c-db65-4758-b54c-39d84c8f5872",
   "metadata": {},
   "outputs": [
    {
     "name": "stdout",
     "output_type": "stream",
     "text": [
      "Loading dicom files ... This may take a moment.\n"
     ]
    },
    {
     "data": {
      "text/plain": [
       "<matplotlib.image.AxesImage at 0x2aadc889dd68>"
      ]
     },
     "execution_count": 65,
     "metadata": {},
     "output_type": "execute_result"
    },
    {
     "data": {
      "image/png": "[encoded data removed]",
      "text/plain": [
       "<Figure size 360x360 with 1 Axes>"
      ]
     },
     "metadata": {
      "needs_background": "light"
     },
     "output_type": "display_data"
    }
   ],
   "source": [
    "scan = pl.query(pl.Scan).filter(pl.Scan.patient_id == 'LIDC-IDRI-0010').first()\n",
    "vol = scan.to_volume()\n",
    "\n",
    "# Set up the plot.\n",
    "fig,ax = plt.subplots(1,1,figsize=(5,5))\n",
    "ax.imshow(vol[cbbox][:,:,k], cmap=plt.cm.gray, alpha=0.5)"
   ]
  },
  {
   "cell_type": "code",
   "execution_count": 14,
   "id": "aaaf0a5f-2f76-4c35-9e96-9ecbc1f31f18",
   "metadata": {},
   "outputs": [
    {
     "data": {
      "text/html": [
       "<div>\n",
       "<style scoped>\n",
       "    .dataframe tbody tr th:only-of-type {\n",
       "        vertical-align: middle;\n",
       "    }\n",
       "\n",
       "    .dataframe tbody tr th {\n",
       "        vertical-align: top;\n",
       "    }\n",
       "\n",
       "    .dataframe thead th {\n",
       "        text-align: right;\n",
       "    }\n",
       "</style>\n",
       "<table border=\"1\" class=\"dataframe\">\n",
       "  <thead>\n",
       "    <tr style=\"text-align: right;\">\n",
       "      <th></th>\n",
       "      <th>subtlety</th>\n",
       "      <th>internalStructure</th>\n",
       "      <th>calcification</th>\n",
       "      <th>sphericity</th>\n",
       "      <th>margin</th>\n",
       "      <th>lobulation</th>\n",
       "      <th>spiculation</th>\n",
       "      <th>texture</th>\n",
       "      <th>diameter</th>\n",
       "      <th>target</th>\n",
       "      <th>path</th>\n",
       "    </tr>\n",
       "  </thead>\n",
       "  <tbody>\n",
       "    <tr>\n",
       "      <th>0</th>\n",
       "      <td>5.0</td>\n",
       "      <td>1.0</td>\n",
       "      <td>6.00</td>\n",
       "      <td>3.75</td>\n",
       "      <td>3.25</td>\n",
       "      <td>3.00</td>\n",
       "      <td>4.25</td>\n",
       "      <td>4.75</td>\n",
       "      <td>32.755812</td>\n",
       "      <td>1</td>\n",
       "      <td>0001.pt</td>\n",
       "    </tr>\n",
       "    <tr>\n",
       "      <th>1</th>\n",
       "      <td>5.0</td>\n",
       "      <td>1.0</td>\n",
       "      <td>6.00</td>\n",
       "      <td>4.00</td>\n",
       "      <td>3.25</td>\n",
       "      <td>2.00</td>\n",
       "      <td>3.00</td>\n",
       "      <td>4.00</td>\n",
       "      <td>31.001964</td>\n",
       "      <td>1</td>\n",
       "      <td>0002.pt</td>\n",
       "    </tr>\n",
       "    <tr>\n",
       "      <th>2</th>\n",
       "      <td>3.5</td>\n",
       "      <td>1.0</td>\n",
       "      <td>6.00</td>\n",
       "      <td>3.50</td>\n",
       "      <td>4.00</td>\n",
       "      <td>1.75</td>\n",
       "      <td>1.50</td>\n",
       "      <td>4.75</td>\n",
       "      <td>13.309155</td>\n",
       "      <td>1</td>\n",
       "      <td>0003.pt</td>\n",
       "    </tr>\n",
       "    <tr>\n",
       "      <th>3</th>\n",
       "      <td>4.0</td>\n",
       "      <td>1.0</td>\n",
       "      <td>6.00</td>\n",
       "      <td>4.50</td>\n",
       "      <td>5.00</td>\n",
       "      <td>1.00</td>\n",
       "      <td>1.00</td>\n",
       "      <td>5.00</td>\n",
       "      <td>14.983128</td>\n",
       "      <td>1</td>\n",
       "      <td>0004.pt</td>\n",
       "    </tr>\n",
       "    <tr>\n",
       "      <th>4</th>\n",
       "      <td>3.0</td>\n",
       "      <td>1.0</td>\n",
       "      <td>3.75</td>\n",
       "      <td>3.50</td>\n",
       "      <td>5.00</td>\n",
       "      <td>1.00</td>\n",
       "      <td>1.00</td>\n",
       "      <td>5.00</td>\n",
       "      <td>6.817327</td>\n",
       "      <td>0</td>\n",
       "      <td>0005.pt</td>\n",
       "    </tr>\n",
       "  </tbody>\n",
       "</table>\n",
       "</div>"
      ],
      "text/plain": [
       "   subtlety  internalStructure  calcification  sphericity  margin  lobulation  \\\n",
       "0       5.0                1.0           6.00        3.75    3.25        3.00   \n",
       "1       5.0                1.0           6.00        4.00    3.25        2.00   \n",
       "2       3.5                1.0           6.00        3.50    4.00        1.75   \n",
       "3       4.0                1.0           6.00        4.50    5.00        1.00   \n",
       "4       3.0                1.0           3.75        3.50    5.00        1.00   \n",
       "\n",
       "   spiculation  texture   diameter  target     path  \n",
       "0         4.25     4.75  32.755812       1  0001.pt  \n",
       "1         3.00     4.00  31.001964       1  0002.pt  \n",
       "2         1.50     4.75  13.309155       1  0003.pt  \n",
       "3         1.00     5.00  14.983128       1  0004.pt  \n",
       "4         1.00     5.00   6.817327       0  0005.pt  "
      ]
     },
     "execution_count": 14,
     "metadata": {},
     "output_type": "execute_result"
    }
   ],
   "source": [
    "df_ann.head()"
   ]
  },
  {
   "cell_type": "code",
   "execution_count": 15,
   "id": "05736f9f-9e4e-4ebe-a231-55f22e769e3a",
   "metadata": {},
   "outputs": [
    {
     "data": {
      "text/html": [
       "<div>\n",
       "<style scoped>\n",
       "    .dataframe tbody tr th:only-of-type {\n",
       "        vertical-align: middle;\n",
       "    }\n",
       "\n",
       "    .dataframe tbody tr th {\n",
       "        vertical-align: top;\n",
       "    }\n",
       "\n",
       "    .dataframe thead th {\n",
       "        text-align: right;\n",
       "    }\n",
       "</style>\n",
       "<table border=\"1\" class=\"dataframe\">\n",
       "  <thead>\n",
       "    <tr style=\"text-align: right;\">\n",
       "      <th></th>\n",
       "      <th>subtlety</th>\n",
       "      <th>internalStructure</th>\n",
       "      <th>calcification</th>\n",
       "      <th>sphericity</th>\n",
       "      <th>margin</th>\n",
       "      <th>lobulation</th>\n",
       "      <th>spiculation</th>\n",
       "      <th>texture</th>\n",
       "      <th>diameter</th>\n",
       "      <th>target</th>\n",
       "      <th>path</th>\n",
       "    </tr>\n",
       "  </thead>\n",
       "  <tbody>\n",
       "    <tr>\n",
       "      <th>0</th>\n",
       "      <td>5.0</td>\n",
       "      <td>1.0</td>\n",
       "      <td>6.00</td>\n",
       "      <td>3.75</td>\n",
       "      <td>3.25</td>\n",
       "      <td>3.00</td>\n",
       "      <td>4.25</td>\n",
       "      <td>4.75</td>\n",
       "      <td>32.755812</td>\n",
       "      <td>1</td>\n",
       "      <td>0001.pt</td>\n",
       "    </tr>\n",
       "    <tr>\n",
       "      <th>1</th>\n",
       "      <td>5.0</td>\n",
       "      <td>1.0</td>\n",
       "      <td>6.00</td>\n",
       "      <td>4.00</td>\n",
       "      <td>3.25</td>\n",
       "      <td>2.00</td>\n",
       "      <td>3.00</td>\n",
       "      <td>4.00</td>\n",
       "      <td>31.001964</td>\n",
       "      <td>1</td>\n",
       "      <td>0002.pt</td>\n",
       "    </tr>\n",
       "    <tr>\n",
       "      <th>2</th>\n",
       "      <td>3.5</td>\n",
       "      <td>1.0</td>\n",
       "      <td>6.00</td>\n",
       "      <td>3.50</td>\n",
       "      <td>4.00</td>\n",
       "      <td>1.75</td>\n",
       "      <td>1.50</td>\n",
       "      <td>4.75</td>\n",
       "      <td>13.309155</td>\n",
       "      <td>1</td>\n",
       "      <td>0003.pt</td>\n",
       "    </tr>\n",
       "    <tr>\n",
       "      <th>3</th>\n",
       "      <td>4.0</td>\n",
       "      <td>1.0</td>\n",
       "      <td>6.00</td>\n",
       "      <td>4.50</td>\n",
       "      <td>5.00</td>\n",
       "      <td>1.00</td>\n",
       "      <td>1.00</td>\n",
       "      <td>5.00</td>\n",
       "      <td>14.983128</td>\n",
       "      <td>1</td>\n",
       "      <td>0004.pt</td>\n",
       "    </tr>\n",
       "    <tr>\n",
       "      <th>4</th>\n",
       "      <td>3.0</td>\n",
       "      <td>1.0</td>\n",
       "      <td>3.75</td>\n",
       "      <td>3.50</td>\n",
       "      <td>5.00</td>\n",
       "      <td>1.00</td>\n",
       "      <td>1.00</td>\n",
       "      <td>5.00</td>\n",
       "      <td>6.817327</td>\n",
       "      <td>0</td>\n",
       "      <td>0005.pt</td>\n",
       "    </tr>\n",
       "    <tr>\n",
       "      <th>5</th>\n",
       "      <td>5.0</td>\n",
       "      <td>1.0</td>\n",
       "      <td>6.00</td>\n",
       "      <td>4.00</td>\n",
       "      <td>3.00</td>\n",
       "      <td>3.25</td>\n",
       "      <td>5.00</td>\n",
       "      <td>4.75</td>\n",
       "      <td>34.442066</td>\n",
       "      <td>1</td>\n",
       "      <td>0006.pt</td>\n",
       "    </tr>\n",
       "    <tr>\n",
       "      <th>6</th>\n",
       "      <td>4.0</td>\n",
       "      <td>1.0</td>\n",
       "      <td>6.00</td>\n",
       "      <td>3.25</td>\n",
       "      <td>4.50</td>\n",
       "      <td>2.25</td>\n",
       "      <td>1.50</td>\n",
       "      <td>5.00</td>\n",
       "      <td>10.026451</td>\n",
       "      <td>1</td>\n",
       "      <td>0007.pt</td>\n",
       "    </tr>\n",
       "  </tbody>\n",
       "</table>\n",
       "</div>"
      ],
      "text/plain": [
       "   subtlety  internalStructure  calcification  sphericity  margin  lobulation  \\\n",
       "0       5.0                1.0           6.00        3.75    3.25        3.00   \n",
       "1       5.0                1.0           6.00        4.00    3.25        2.00   \n",
       "2       3.5                1.0           6.00        3.50    4.00        1.75   \n",
       "3       4.0                1.0           6.00        4.50    5.00        1.00   \n",
       "4       3.0                1.0           3.75        3.50    5.00        1.00   \n",
       "5       5.0                1.0           6.00        4.00    3.00        3.25   \n",
       "6       4.0                1.0           6.00        3.25    4.50        2.25   \n",
       "\n",
       "   spiculation  texture   diameter  target     path  \n",
       "0         4.25     4.75  32.755812       1  0001.pt  \n",
       "1         3.00     4.00  31.001964       1  0002.pt  \n",
       "2         1.50     4.75  13.309155       1  0003.pt  \n",
       "3         1.00     5.00  14.983128       1  0004.pt  \n",
       "4         1.00     5.00   6.817327       0  0005.pt  \n",
       "5         5.00     4.75  34.442066       1  0006.pt  \n",
       "6         1.50     5.00  10.026451       1  0007.pt  "
      ]
     },
     "execution_count": 15,
     "metadata": {},
     "output_type": "execute_result"
    }
   ],
   "source": [
    "df_ann"
   ]
  },
  {
   "cell_type": "code",
   "execution_count": 16,
   "id": "56c2ac39-9ac1-4857-8a80-46c82fb10380",
   "metadata": {},
   "outputs": [
    {
     "data": {
      "text/plain": [
       "77"
      ]
     },
     "execution_count": 16,
     "metadata": {},
     "output_type": "execute_result"
    }
   ],
   "source": [
    "df_ann.size"
   ]
  },
  {
   "cell_type": "code",
   "execution_count": 23,
   "id": "cb69a95b-8bd6-49c9-9e88-209bc5a4a0da",
   "metadata": {},
   "outputs": [
    {
     "name": "stdout",
     "output_type": "stream",
     "text": [
      "/lu/tetyda/home/dzban112/Lung_cancer\n"
     ]
    }
   ],
   "source": [
    "! pwd"
   ]
  },
  {
   "cell_type": "code",
   "execution_count": 24,
   "id": "e502be64-c13b-4282-ac94-fe9b70a60201",
   "metadata": {},
   "outputs": [],
   "source": [
    "pathos = './dataset'\n",
    "\n",
    "df_all_labels = pd.read_pickle(f\"{pathos}/annotations_df.pkl\")"
   ]
  },
  {
   "cell_type": "code",
   "execution_count": 25,
   "id": "514c4767-5f1a-4227-a5a9-5db9b6928344",
   "metadata": {},
   "outputs": [
    {
     "data": {
      "text/html": [
       "<div>\n",
       "<style scoped>\n",
       "    .dataframe tbody tr th:only-of-type {\n",
       "        vertical-align: middle;\n",
       "    }\n",
       "\n",
       "    .dataframe tbody tr th {\n",
       "        vertical-align: top;\n",
       "    }\n",
       "\n",
       "    .dataframe thead th {\n",
       "        text-align: right;\n",
       "    }\n",
       "</style>\n",
       "<table border=\"1\" class=\"dataframe\">\n",
       "  <thead>\n",
       "    <tr style=\"text-align: right;\">\n",
       "      <th></th>\n",
       "      <th>subtlety</th>\n",
       "      <th>internalStructure</th>\n",
       "      <th>calcification</th>\n",
       "      <th>sphericity</th>\n",
       "      <th>margin</th>\n",
       "      <th>lobulation</th>\n",
       "      <th>spiculation</th>\n",
       "      <th>texture</th>\n",
       "      <th>diameter</th>\n",
       "      <th>target</th>\n",
       "      <th>path</th>\n",
       "    </tr>\n",
       "  </thead>\n",
       "  <tbody>\n",
       "    <tr>\n",
       "      <th>0</th>\n",
       "      <td>5.0</td>\n",
       "      <td>1.0</td>\n",
       "      <td>6.00</td>\n",
       "      <td>3.75</td>\n",
       "      <td>3.25</td>\n",
       "      <td>3.00</td>\n",
       "      <td>4.25</td>\n",
       "      <td>4.75</td>\n",
       "      <td>32.755812</td>\n",
       "      <td>1</td>\n",
       "      <td>0001.pt</td>\n",
       "    </tr>\n",
       "    <tr>\n",
       "      <th>1</th>\n",
       "      <td>5.0</td>\n",
       "      <td>1.0</td>\n",
       "      <td>6.00</td>\n",
       "      <td>4.00</td>\n",
       "      <td>3.25</td>\n",
       "      <td>2.00</td>\n",
       "      <td>3.00</td>\n",
       "      <td>4.00</td>\n",
       "      <td>31.001964</td>\n",
       "      <td>1</td>\n",
       "      <td>0002.pt</td>\n",
       "    </tr>\n",
       "    <tr>\n",
       "      <th>2</th>\n",
       "      <td>3.5</td>\n",
       "      <td>1.0</td>\n",
       "      <td>6.00</td>\n",
       "      <td>3.50</td>\n",
       "      <td>4.00</td>\n",
       "      <td>1.75</td>\n",
       "      <td>1.50</td>\n",
       "      <td>4.75</td>\n",
       "      <td>13.309155</td>\n",
       "      <td>1</td>\n",
       "      <td>0003.pt</td>\n",
       "    </tr>\n",
       "    <tr>\n",
       "      <th>3</th>\n",
       "      <td>4.0</td>\n",
       "      <td>1.0</td>\n",
       "      <td>6.00</td>\n",
       "      <td>4.50</td>\n",
       "      <td>5.00</td>\n",
       "      <td>1.00</td>\n",
       "      <td>1.00</td>\n",
       "      <td>5.00</td>\n",
       "      <td>14.983128</td>\n",
       "      <td>1</td>\n",
       "      <td>0004.pt</td>\n",
       "    </tr>\n",
       "    <tr>\n",
       "      <th>4</th>\n",
       "      <td>3.0</td>\n",
       "      <td>1.0</td>\n",
       "      <td>3.75</td>\n",
       "      <td>3.50</td>\n",
       "      <td>5.00</td>\n",
       "      <td>1.00</td>\n",
       "      <td>1.00</td>\n",
       "      <td>5.00</td>\n",
       "      <td>6.817327</td>\n",
       "      <td>0</td>\n",
       "      <td>0005.pt</td>\n",
       "    </tr>\n",
       "    <tr>\n",
       "      <th>5</th>\n",
       "      <td>5.0</td>\n",
       "      <td>1.0</td>\n",
       "      <td>6.00</td>\n",
       "      <td>4.00</td>\n",
       "      <td>3.00</td>\n",
       "      <td>3.25</td>\n",
       "      <td>5.00</td>\n",
       "      <td>4.75</td>\n",
       "      <td>34.442066</td>\n",
       "      <td>1</td>\n",
       "      <td>0006.pt</td>\n",
       "    </tr>\n",
       "    <tr>\n",
       "      <th>6</th>\n",
       "      <td>4.0</td>\n",
       "      <td>1.0</td>\n",
       "      <td>6.00</td>\n",
       "      <td>3.25</td>\n",
       "      <td>4.50</td>\n",
       "      <td>2.25</td>\n",
       "      <td>1.50</td>\n",
       "      <td>5.00</td>\n",
       "      <td>10.026451</td>\n",
       "      <td>1</td>\n",
       "      <td>0007.pt</td>\n",
       "    </tr>\n",
       "  </tbody>\n",
       "</table>\n",
       "</div>"
      ],
      "text/plain": [
       "   subtlety  internalStructure  calcification  sphericity  margin  lobulation  \\\n",
       "0       5.0                1.0           6.00        3.75    3.25        3.00   \n",
       "1       5.0                1.0           6.00        4.00    3.25        2.00   \n",
       "2       3.5                1.0           6.00        3.50    4.00        1.75   \n",
       "3       4.0                1.0           6.00        4.50    5.00        1.00   \n",
       "4       3.0                1.0           3.75        3.50    5.00        1.00   \n",
       "5       5.0                1.0           6.00        4.00    3.00        3.25   \n",
       "6       4.0                1.0           6.00        3.25    4.50        2.25   \n",
       "\n",
       "   spiculation  texture   diameter  target     path  \n",
       "0         4.25     4.75  32.755812       1  0001.pt  \n",
       "1         3.00     4.00  31.001964       1  0002.pt  \n",
       "2         1.50     4.75  13.309155       1  0003.pt  \n",
       "3         1.00     5.00  14.983128       1  0004.pt  \n",
       "4         1.00     5.00   6.817327       0  0005.pt  \n",
       "5         5.00     4.75  34.442066       1  0006.pt  \n",
       "6         1.50     5.00  10.026451       1  0007.pt  "
      ]
     },
     "execution_count": 25,
     "metadata": {},
     "output_type": "execute_result"
    }
   ],
   "source": [
    "df_all_labels"
   ]
  },
  {
   "cell_type": "code",
   "execution_count": 17,
   "id": "54bf7465-2cf7-4c5f-8cc6-ec1ea17d9fa4",
   "metadata": {},
   "outputs": [
    {
     "data": {
      "text/plain": [
       "3"
      ]
     },
     "execution_count": 17,
     "metadata": {},
     "output_type": "execute_result"
    }
   ],
   "source": [
    "len(nodules)"
   ]
  },
  {
   "cell_type": "code",
   "execution_count": 18,
   "id": "c6cb1c6f-a98a-4225-b2cb-a9bae3118207",
   "metadata": {},
   "outputs": [
    {
     "data": {
      "text/plain": [
       "[[Annotation(id=144,scan_id=21)],\n",
       " [Annotation(id=141,scan_id=21), Annotation(id=143,scan_id=21)],\n",
       " [Annotation(id=138,scan_id=21),\n",
       "  Annotation(id=139,scan_id=21),\n",
       "  Annotation(id=140,scan_id=21),\n",
       "  Annotation(id=142,scan_id=21)]]"
      ]
     },
     "execution_count": 18,
     "metadata": {},
     "output_type": "execute_result"
    }
   ],
   "source": [
    "nodules"
   ]
  },
  {
   "cell_type": "code",
   "execution_count": 59,
   "id": "2a121d73-dcae-4969-bc8e-4dc5f9553ec8",
   "metadata": {},
   "outputs": [],
   "source": [
    "from pylidc.utils import consensus\n",
    "from skimage.measure import find_contours"
   ]
  },
  {
   "cell_type": "code",
   "execution_count": 61,
   "id": "a49da0d1-1c5e-45de-a48a-615d42ef9c50",
   "metadata": {},
   "outputs": [
    {
     "name": "stdout",
     "output_type": "stream",
     "text": [
      "Loading dicom files ... This may take a moment.\n",
      "(slice(320, 412, None), slice(277, 361, None), slice(86, 95, None))\n"
     ]
    },
    {
     "data": {
      "image/png": "[encoded data removed]",
      "text/plain": [
       "<Figure size 360x360 with 1 Axes>"
      ]
     },
     "metadata": {
      "needs_background": "light"
     },
     "output_type": "display_data"
    }
   ],
   "source": [
    "scan = pl.query(pl.Scan).filter(pl.Scan.patient_id == 'LIDC-IDRI-0001').first()\n",
    "vol = scan.to_volume()\n",
    "\n",
    "nods = scan.cluster_annotations()\n",
    "anns = nods[0]\n",
    "\n",
    "cmask,cbbox,masks = consensus(anns, clevel=0.5,\n",
    "                              pad=[(20,20), (20,20), (0,0)])\n",
    "\n",
    "print(cbbox)\n",
    "k = int(0.5*(cbbox[2].stop - cbbox[2].start))\n",
    "\n",
    "# Set up the plot.\n",
    "fig,ax = plt.subplots(1,1,figsize=(5,5))\n",
    "ax.imshow(vol[cbbox][:,:,k], cmap=plt.cm.gray, alpha=0.5)\n",
    "\n",
    "# Plot the annotation contours for the kth slice.\n",
    "colors = ['r', 'g', 'b', 'y']\n",
    "for j in range(len(masks)):\n",
    "    for c in find_contours(masks[j][:,:,k].astype(float), 0.5):\n",
    "        label = \"Annotation %d\" % (j+1)\n",
    "        plt.plot(c[:,1], c[:,0], colors[j], label=label)\n",
    "\n",
    "# Plot the 50% consensus contour for the kth slice.\n",
    "for c in find_contours(cmask[:,:,k].astype(float), 0.5):\n",
    "    plt.plot(c[:,1], c[:,0], '--k', label='50% Consensus')\n",
    "\n",
    "ax.axis('off')\n",
    "ax.legend()\n",
    "plt.tight_layout()\n",
    "plt.show()"
   ]
  },
  {
   "cell_type": "code",
   "execution_count": null,
   "id": "71348512-9aa3-4b29-9973-f53751b8dae2",
   "metadata": {},
   "outputs": [],
   "source": []
  }
 ],
 "metadata": {
  "kernelspec": {
   "display_name": "Python 3",
   "language": "python",
   "name": "python3"
  },
  "language_info": {
   "codemirror_mode": {
    "name": "ipython",
    "version": 3
   },
   "file_extension": ".py",
   "mimetype": "text/x-python",
   "name": "python",
   "nbconvert_exporter": "python",
   "pygments_lexer": "ipython3",
   "version": "3.6.8"
  }
 },
 "nbformat": 4,
 "nbformat_minor": 5
}
